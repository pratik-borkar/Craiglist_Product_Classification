{
  "nbformat": 4,
  "nbformat_minor": 0,
  "metadata": {
    "colab": {
      "provenance": []
    },
    "kernelspec": {
      "name": "python3",
      "display_name": "Python 3"
    },
    "language_info": {
      "name": "python"
    }
  },
  "cells": [
    {
      "cell_type": "markdown",
      "source": [
        "**Support Vector Machine**"
      ],
      "metadata": {
        "id": "NHZBu5PRXwDt"
      }
    },
    {
      "cell_type": "code",
      "source": [
        "import pandas as pd\n",
        "from sklearn.model_selection import train_test_split\n",
        "from sklearn.feature_extraction.text import TfidfVectorizer\n",
        "from sklearn.svm import SVC\n",
        "from sklearn.metrics import classification_report, accuracy_score\n",
        "from sklearn.preprocessing import LabelEncoder"
      ],
      "metadata": {
        "id": "vhCBTCLRW3EH"
      },
      "execution_count": 1,
      "outputs": []
    },
    {
      "cell_type": "code",
      "source": [
        "import nltk\n",
        "from nltk.tokenize import word_tokenize\n",
        "from nltk.corpus import stopwords\n",
        "from nltk.stem import WordNetLemmatizer\n",
        "\n",
        "# Make sure to download the necessary NLTK data\n",
        "nltk.download('punkt')\n",
        "nltk.download('stopwords')\n",
        "nltk.download('wordnet')"
      ],
      "metadata": {
        "colab": {
          "base_uri": "https://localhost:8080/"
        },
        "id": "pXbQSwWZt51I",
        "outputId": "21ce15ef-96ec-4c94-fa2d-70ac82a33557"
      },
      "execution_count": 4,
      "outputs": [
        {
          "output_type": "stream",
          "name": "stderr",
          "text": [
            "[nltk_data] Downloading package punkt to /root/nltk_data...\n",
            "[nltk_data]   Unzipping tokenizers/punkt.zip.\n",
            "[nltk_data] Downloading package stopwords to /root/nltk_data...\n",
            "[nltk_data]   Unzipping corpora/stopwords.zip.\n",
            "[nltk_data] Downloading package wordnet to /root/nltk_data...\n"
          ]
        },
        {
          "output_type": "execute_result",
          "data": {
            "text/plain": [
              "True"
            ]
          },
          "metadata": {},
          "execution_count": 4
        }
      ]
    },
    {
      "cell_type": "code",
      "source": [
        "# Preprocessing function\n",
        "def preprocess_text(text):\n",
        "    text = text.lower()  # Convert to lowercase\n",
        "    tokens = word_tokenize(text)  # Tokenize\n",
        "    tokens = [word for word in tokens if word not in stopwords.words('english')]  # Remove stopwords\n",
        "    lemmatizer = WordNetLemmatizer()\n",
        "    tokens = [lemmatizer.lemmatize(word) for word in tokens]  # Lemmatization\n",
        "    return ' '.join(tokens)  # Return the processed text as a single string\n",
        "\n",
        "# Load the dataset\n",
        "data = pd.read_csv('/content/products_details_labelled_complete.csv')\n",
        "\n",
        "# Combine and preprocess the text data\n",
        "data['combined_text'] = data['product_title'].fillna('') + \" \" + data['description'].fillna('')\n",
        "data['processed_text'] = data['combined_text'].apply(preprocess_text)\n",
        "\n",
        "# Encode labels\n",
        "label_encoder = LabelEncoder()\n",
        "y = label_encoder.fit_transform(data['Label'])\n",
        "\n",
        "# Create TF-IDF features\n",
        "tfidf_vectorizer = TfidfVectorizer(max_features=5000)  # You can tune the number of features\n",
        "X_tfidf = tfidf_vectorizer.fit_transform(data['processed_text']).toarray()\n",
        "\n",
        "# Split the data\n",
        "X_train, X_test, y_train, y_test = train_test_split(X_tfidf, y, test_size=0.3, random_state=42)\n",
        "\n",
        "# Create and train the SVM model\n",
        "svm_model = SVC(kernel='linear')  # You can experiment with different kernels\n",
        "svm_model.fit(X_train, y_train)\n",
        "\n",
        "# Predict and evaluate the model\n",
        "y_pred = svm_model.predict(X_test)\n",
        "print(\"Accuracy:\", accuracy_score(y_test, y_pred))\n",
        "print(\"\\nClassification Report:\\n\", classification_report(y_test, y_pred))"
      ],
      "metadata": {
        "colab": {
          "base_uri": "https://localhost:8080/"
        },
        "id": "Y7bEcMAyW5Of",
        "outputId": "083d7811-6b57-4c29-c1c5-795fa5102ba8"
      },
      "execution_count": 5,
      "outputs": [
        {
          "output_type": "stream",
          "name": "stdout",
          "text": [
            "Accuracy: 0.6567460317460317\n",
            "\n",
            "Classification Report:\n",
            "               precision    recall  f1-score   support\n",
            "\n",
            "           0       1.00      0.72      0.84        18\n",
            "           1       0.85      0.57      0.68        51\n",
            "           2       0.65      0.93      0.76       229\n",
            "           3       0.70      0.38      0.49        37\n",
            "           4       0.36      0.12      0.18        41\n",
            "           5       0.56      0.28      0.37        69\n",
            "           6       0.62      0.68      0.65        50\n",
            "           7       1.00      0.44      0.62         9\n",
            "\n",
            "    accuracy                           0.66       504\n",
            "   macro avg       0.72      0.52      0.57       504\n",
            "weighted avg       0.65      0.66      0.62       504\n",
            "\n"
          ]
        }
      ]
    },
    {
      "cell_type": "markdown",
      "source": [
        "**Polynomial kernel**"
      ],
      "metadata": {
        "id": "EVrvFraTyelV"
      }
    },
    {
      "cell_type": "code",
      "source": [
        "# Create and train the SVM model with a polynomial kernel\n",
        "svm_poly_model = SVC(kernel='poly')  # Degree can be tuned\n",
        "svm_poly_model.fit(X_train, y_train)\n",
        "\n",
        "# Predict and evaluate the model\n",
        "y_pred_poly = svm_poly_model.predict(X_test)\n",
        "print(\"Polynomial Kernel Accuracy:\", accuracy_score(y_test, y_pred_poly))\n",
        "print(\"\\nPolynomial Kernel Classification Report:\\n\", classification_report(y_test, y_pred_poly))"
      ],
      "metadata": {
        "colab": {
          "base_uri": "https://localhost:8080/"
        },
        "id": "q3J19QAyuKRP",
        "outputId": "1e2c2476-1ed2-4e35-e406-994765d3d325"
      },
      "execution_count": 10,
      "outputs": [
        {
          "output_type": "stream",
          "name": "stdout",
          "text": [
            "Polynomial Kernel Accuracy: 0.48214285714285715\n",
            "\n",
            "Polynomial Kernel Classification Report:\n",
            "               precision    recall  f1-score   support\n",
            "\n",
            "           0       1.00      0.06      0.11        18\n",
            "           1       1.00      0.04      0.08        51\n",
            "           2       0.47      0.99      0.63       229\n",
            "           3       0.33      0.03      0.05        37\n",
            "           4       1.00      0.02      0.05        41\n",
            "           5       0.75      0.04      0.08        69\n",
            "           6       1.00      0.16      0.28        50\n",
            "           7       1.00      0.11      0.20         9\n",
            "\n",
            "    accuracy                           0.48       504\n",
            "   macro avg       0.82      0.18      0.18       504\n",
            "weighted avg       0.67      0.48      0.35       504\n",
            "\n"
          ]
        }
      ]
    },
    {
      "cell_type": "code",
      "source": [
        "from sklearn.model_selection import GridSearchCV\n",
        "parameter_grid = {\n",
        "    'C': [0.1, 1, 10, 100],\n",
        "    'degree': [2, 3, 4, 5],\n",
        "    'coef0': [0.0, 1.0, 2.0]\n",
        "}\n",
        "grid_search = GridSearchCV(SVC(kernel='poly'), parameter_grid, cv=5)\n",
        "grid_search.fit(X_train, y_train)\n",
        "best_params = grid_search.best_params_\n",
        "print(\"Best Parameters:\", best_params)\n",
        "\n",
        "# Create and train the SVM model with the best parameters\n",
        "tuned_svm_model = SVC(kernel='poly', C=best_params['C'], degree=best_params['degree'], coef0=best_params['coef0'])\n",
        "tuned_svm_model.fit(X_train, y_train)\n",
        "\n",
        "# Predict and evaluate the model\n",
        "y_pred = tuned_svm_model.predict(X_test)\n",
        "print(\"Accuracy:\", accuracy_score(y_test, y_pred))\n",
        "print(\"\\nClassification Report:\\n\", classification_report(y_test, y_pred))"
      ],
      "metadata": {
        "colab": {
          "base_uri": "https://localhost:8080/"
        },
        "id": "GDlC4ewzyqHk",
        "outputId": "3d9f9eca-a91c-47ca-cfb0-e92ea632965c"
      },
      "execution_count": 17,
      "outputs": [
        {
          "output_type": "stream",
          "name": "stdout",
          "text": [
            "Best Parameters: {'C': 0.1, 'coef0': 2.0, 'degree': 3}\n",
            "Accuracy: 0.6547619047619048\n",
            "\n",
            "Classification Report:\n",
            "               precision    recall  f1-score   support\n",
            "\n",
            "           0       1.00      0.61      0.76        18\n",
            "           1       0.86      0.59      0.70        51\n",
            "           2       0.67      0.91      0.78       229\n",
            "           3       0.61      0.38      0.47        37\n",
            "           4       0.44      0.17      0.25        41\n",
            "           5       0.47      0.29      0.36        69\n",
            "           6       0.58      0.70      0.64        50\n",
            "           7       0.67      0.44      0.53         9\n",
            "\n",
            "    accuracy                           0.65       504\n",
            "   macro avg       0.66      0.51      0.56       504\n",
            "weighted avg       0.64      0.65      0.63       504\n",
            "\n"
          ]
        }
      ]
    },
    {
      "cell_type": "markdown",
      "source": [
        "**RBF Kernel**"
      ],
      "metadata": {
        "id": "arOG3gmjybMu"
      }
    },
    {
      "cell_type": "code",
      "source": [
        "# Create and train the SVM model with RBF kernel\n",
        "svm_rbf_model = SVC(kernel='rbf')  # Gamma can be tuned\n",
        "svm_rbf_model.fit(X_train, y_train)\n",
        "\n",
        "# Predict and evaluate the model\n",
        "y_pred_rbf = svm_rbf_model.predict(X_test)\n",
        "print(\"RBF Kernel Accuracy:\", accuracy_score(y_test, y_pred_rbf))\n",
        "print(\"\\nRBF Kernel Classification Report:\\n\", classification_report(y_test, y_pred_rbf))"
      ],
      "metadata": {
        "colab": {
          "base_uri": "https://localhost:8080/"
        },
        "id": "T0rpE7k3uMz1",
        "outputId": "7b875b38-d93b-4ff4-8021-0ca63444d57c"
      },
      "execution_count": 11,
      "outputs": [
        {
          "output_type": "stream",
          "name": "stdout",
          "text": [
            "RBF Kernel Accuracy: 0.5892857142857143\n",
            "\n",
            "RBF Kernel Classification Report:\n",
            "               precision    recall  f1-score   support\n",
            "\n",
            "           0       1.00      0.33      0.50        18\n",
            "           1       0.87      0.51      0.64        51\n",
            "           2       0.54      0.96      0.69       229\n",
            "           3       0.50      0.08      0.14        37\n",
            "           4       1.00      0.05      0.09        41\n",
            "           5       0.72      0.19      0.30        69\n",
            "           6       0.76      0.52      0.62        50\n",
            "           7       1.00      0.22      0.36         9\n",
            "\n",
            "    accuracy                           0.59       504\n",
            "   macro avg       0.80      0.36      0.42       504\n",
            "weighted avg       0.68      0.59      0.52       504\n",
            "\n"
          ]
        }
      ]
    },
    {
      "cell_type": "code",
      "source": [
        "from sklearn.model_selection import GridSearchCV\n",
        "\n",
        "parameters = {'C': [0.1, 1, 10, 100], 'gamma': [1, 0.1, 0.01, 0.001]}\n",
        "grid_search = GridSearchCV(SVC(kernel='rbf'), parameters, cv=5)\n",
        "grid_search.fit(X_train, y_train)\n",
        "print(grid_search.best_params_)"
      ],
      "metadata": {
        "colab": {
          "base_uri": "https://localhost:8080/"
        },
        "id": "BLN7oSKcyPaj",
        "outputId": "2b6dcf9a-4dbc-411c-dfda-98356e34c4d4"
      },
      "execution_count": 12,
      "outputs": [
        {
          "output_type": "stream",
          "name": "stdout",
          "text": [
            "{'C': 100, 'gamma': 0.01}\n"
          ]
        }
      ]
    },
    {
      "cell_type": "code",
      "source": [
        "# Retrieve the best parameters from the grid search\n",
        "best_params = grid_search.best_params_\n",
        "print(\"Best Parameters:\", best_params)"
      ],
      "metadata": {
        "colab": {
          "base_uri": "https://localhost:8080/"
        },
        "id": "giLFh99l1dV_",
        "outputId": "c6351b4e-bcd1-41b1-b75c-db0d432cacaf"
      },
      "execution_count": 15,
      "outputs": [
        {
          "output_type": "stream",
          "name": "stdout",
          "text": [
            "Best Parameters: {'C': 100, 'gamma': 0.01}\n"
          ]
        }
      ]
    },
    {
      "cell_type": "code",
      "source": [
        "#Create and train the SVM model with the best parameters\n",
        "tuned_svm_model = SVC(kernel='rbf', C=best_params['C'], gamma=best_params['gamma'])\n",
        "tuned_svm_model.fit(X_train, y_train)\n",
        "\n",
        "# Predict and evaluate the model\n",
        "y_pred = tuned_svm_model.predict(X_test)\n",
        "print(\"Accuracy:\", accuracy_score(y_test, y_pred))\n",
        "print(\"\\nClassification Report:\\n\", classification_report(y_test, y_pred))"
      ],
      "metadata": {
        "colab": {
          "base_uri": "https://localhost:8080/"
        },
        "id": "AgHtsQgJ1Cy5",
        "outputId": "457e92b3-aa29-492c-c575-1b498dc21fd7"
      },
      "execution_count": 16,
      "outputs": [
        {
          "output_type": "stream",
          "name": "stdout",
          "text": [
            "Accuracy: 0.6666666666666666\n",
            "\n",
            "Classification Report:\n",
            "               precision    recall  f1-score   support\n",
            "\n",
            "           0       1.00      0.67      0.80        18\n",
            "           1       0.81      0.69      0.74        51\n",
            "           2       0.72      0.90      0.80       229\n",
            "           3       0.50      0.38      0.43        37\n",
            "           4       0.48      0.24      0.32        41\n",
            "           5       0.43      0.29      0.35        69\n",
            "           6       0.56      0.70      0.62        50\n",
            "           7       0.71      0.56      0.63         9\n",
            "\n",
            "    accuracy                           0.67       504\n",
            "   macro avg       0.65      0.55      0.59       504\n",
            "weighted avg       0.65      0.67      0.65       504\n",
            "\n"
          ]
        }
      ]
    },
    {
      "cell_type": "markdown",
      "source": [
        "**Sigmoid kernel**"
      ],
      "metadata": {
        "id": "EpTS65hHyW3j"
      }
    },
    {
      "cell_type": "code",
      "source": [
        "# Create and train the SVM model with a sigmoid kernel\n",
        "svm_sigmoid_model = SVC(kernel='sigmoid')  # Hyperparameters can be tuned\n",
        "svm_sigmoid_model.fit(X_train, y_train)\n",
        "\n",
        "# Predict and evaluate the model\n",
        "y_pred_sigmoid = svm_sigmoid_model.predict(X_test)\n",
        "print(\"Sigmoid Kernel Accuracy:\", accuracy_score(y_test, y_pred_sigmoid))\n",
        "print(\"\\nSigmoid Kernel Classification Report:\\n\", classification_report(y_test, y_pred_sigmoid))"
      ],
      "metadata": {
        "colab": {
          "base_uri": "https://localhost:8080/"
        },
        "id": "GeaIxGT2uTd_",
        "outputId": "4e1a2882-b13e-4bff-ba8b-083fde2b0445"
      },
      "execution_count": 8,
      "outputs": [
        {
          "output_type": "stream",
          "name": "stdout",
          "text": [
            "Sigmoid Kernel Accuracy: 0.6567460317460317\n",
            "\n",
            "Sigmoid Kernel Classification Report:\n",
            "               precision    recall  f1-score   support\n",
            "\n",
            "           0       1.00      0.67      0.80        18\n",
            "           1       0.86      0.59      0.70        51\n",
            "           2       0.63      0.94      0.75       229\n",
            "           3       0.78      0.38      0.51        37\n",
            "           4       0.45      0.12      0.19        41\n",
            "           5       0.61      0.25      0.35        69\n",
            "           6       0.62      0.68      0.65        50\n",
            "           7       1.00      0.44      0.62         9\n",
            "\n",
            "    accuracy                           0.66       504\n",
            "   macro avg       0.74      0.51      0.57       504\n",
            "weighted avg       0.67      0.66      0.62       504\n",
            "\n"
          ]
        }
      ]
    }
  ]
}