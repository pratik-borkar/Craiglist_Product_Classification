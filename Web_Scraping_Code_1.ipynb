{
 "cells": [
  {
   "cell_type": "code",
   "execution_count": 14,
   "id": "f8f5e76b",
   "metadata": {},
   "outputs": [
    {
     "name": "stderr",
     "output_type": "stream",
     "text": [
      "C:\\Users\\prati\\AppData\\Local\\Temp\\ipykernel_11344\\3703893067.py:22: DeprecationWarning: Firefox will soon stop logging to geckodriver.log by default; Specify desired logs with log_output\n",
      "  driver = webdriver.Firefox(service=Service(GeckoDriverManager().install()), options = firefox_options)\n"
     ]
    }
   ],
   "source": [
    "import urllib.request, urllib.error, urllib.parse\n",
    "import json\n",
    "import csv\n",
    "import pandas\n",
    "import html\n",
    "import pandas as pd\n",
    "import time\n",
    "from bs4 import BeautifulSoup\n",
    "from selenium import webdriver\n",
    "from selenium.webdriver.firefox.options import Options\n",
    "from selenium.webdriver.common.by import By\n",
    "from selenium.webdriver.support.wait import WebDriverWait\n",
    "from selenium.webdriver.support import expected_conditions as EC\n",
    "from selenium.webdriver.firefox.service import Service\n",
    "from webdriver_manager.firefox import GeckoDriverManager\n",
    "import time\n",
    "import random\n",
    "firefox_options = Options()\n",
    "firefox_options.add_argument('--headless')\n",
    "firefox_options.add_argument('--no-sandbox')\n",
    "firefox_options.add_argument('--disable-dev-shm-usage')\n",
    "driver = webdriver.Firefox(service=Service(GeckoDriverManager().install()), options = firefox_options)"
   ]
  },
  {
   "cell_type": "code",
   "execution_count": 17,
   "id": "b86fff5b",
   "metadata": {},
   "outputs": [],
   "source": [
    "with open('craiglist_scraping_trial_2.csv', 'w', newline='') as file:\n",
    "    writer = csv.writer(file)\n",
    "    writer.writerow([\"Product Page URL\", \"Posted Time\", \"Location\", \"Price\"])\n",
    "\n",
    "    for count in range(0, 19):\n",
    "        url_check = 'https://newyork.craigslist.org/search/haa#search=1~gallery~' + str(count) + '~0'\n",
    "        driver.get(url_check)\n",
    "        time.sleep(3)  # Consider using WebDriverWait here\n",
    "        html = driver.page_source\n",
    "        soup = BeautifulSoup(html, 'html.parser')\n",
    "\n",
    "        results_page = soup.find('div', class_='results cl-results-page')\n",
    "        all_items = results_page.find_all('li', class_='cl-search-result cl-search-view-mode-gallery')\n",
    "        for item in all_items:\n",
    "            product_page_url = item.find('a', tabindex='0').get('href') if item.find('a', tabindex='0') else None\n",
    "            meta_info = item.find('div', class_='meta')\n",
    "            if meta_info:\n",
    "                contents = meta_info.contents\n",
    "                time_posted = contents[0].strip() if len(contents) > 0 else None\n",
    "                location = contents[2].strip() if len(contents) > 2 else None\n",
    "            else:\n",
    "                time_posted, location = None, None\n",
    "            price = item.find('span', class_='priceinfo').text.strip() if item.find('span', class_='priceinfo') else None\n",
    "            writer.writerow([product_page_url, time_posted, location, price])"
   ]
  },
  {
   "cell_type": "code",
   "execution_count": null,
   "id": "15011912",
   "metadata": {},
   "outputs": [],
   "source": []
  }
 ],
 "metadata": {
  "kernelspec": {
   "display_name": "Python 3 (ipykernel)",
   "language": "python",
   "name": "python3"
  },
  "language_info": {
   "codemirror_mode": {
    "name": "ipython",
    "version": 3
   },
   "file_extension": ".py",
   "mimetype": "text/x-python",
   "name": "python",
   "nbconvert_exporter": "python",
   "pygments_lexer": "ipython3",
   "version": "3.11.3"
  }
 },
 "nbformat": 4,
 "nbformat_minor": 5
}
